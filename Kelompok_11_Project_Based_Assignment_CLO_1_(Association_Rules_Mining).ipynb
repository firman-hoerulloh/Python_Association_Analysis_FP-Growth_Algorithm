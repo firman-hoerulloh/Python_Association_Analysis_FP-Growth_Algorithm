{
  "nbformat": 4,
  "nbformat_minor": 0,
  "metadata": {
    "colab": {
      "provenance": [],
      "include_colab_link": true
    },
    "kernelspec": {
      "name": "python3",
      "display_name": "Python 3"
    },
    "language_info": {
      "name": "python"
    }
  },
  "cells": [
    {
      "cell_type": "markdown",
      "metadata": {
        "id": "view-in-github",
        "colab_type": "text"
      },
      "source": [
        "<a href=\"https://colab.research.google.com/github/firman-hoerulloh/Python_Association_Analysis_FP-Growth_Algorithm/blob/main/Kelompok_11_Project_Based_Assignment_CLO_1_(Association_Rules_Mining).ipynb\" target=\"_parent\"><img src=\"https://colab.research.google.com/assets/colab-badge.svg\" alt=\"Open In Colab\"/></a>"
      ]
    },
    {
      "cell_type": "markdown",
      "source": [
        "# Project-Based Assignment CLO-1\n",
        "### Implementasi Analisa Asosiasi\n",
        "\n",
        "Anggota Kelompok 11:\n",
        "*   Firman Hoerulloh (1301213392)\n",
        "*   Arrizal Aryasatya Rizqullah (1301213175)\n",
        "*   Raihan Kahfi Ananta (1301213463)\n",
        "*   Ariiq Afrahtama (1301213449)\n",
        "\n",
        "\n",
        "\n",
        "\n"
      ],
      "metadata": {
        "id": "wP7HDJglw7yb"
      }
    },
    {
      "cell_type": "markdown",
      "source": [
        "# Data Preprocessing dan EDA"
      ],
      "metadata": {
        "id": "Ec1T8f5yQMvB"
      }
    },
    {
      "cell_type": "code",
      "source": [
        "import pandas as pd\n",
        "\n",
        "# Membaca file Excel\n",
        "df = pd.read_excel('/content/Assignment-1_Data.xlsx')\n",
        "\n",
        "# Menampilkan 5 baris pertama dari DataFrame\n",
        "print(df.head())\n"
      ],
      "metadata": {
        "colab": {
          "base_uri": "https://localhost:8080/"
        },
        "id": "fz5RfAblVENJ",
        "outputId": "fb1b940e-8890-446f-c58d-2ca83ba32d82"
      },
      "execution_count": null,
      "outputs": [
        {
          "output_type": "stream",
          "name": "stderr",
          "text": [
            "/usr/local/lib/python3.10/dist-packages/ipykernel/ipkernel.py:283: DeprecationWarning: `should_run_async` will not call `transform_cell` automatically in the future. Please pass the result to `transformed_cell` argument and any exception that happen during thetransform in `preprocessing_exc_tuple` in IPython 7.17 and above.\n",
            "  and should_run_async(code)\n"
          ]
        },
        {
          "output_type": "stream",
          "name": "stdout",
          "text": [
            "   BillNo                             Itemname  Quantity                Date  \\\n",
            "0  536365   WHITE HANGING HEART T-LIGHT HOLDER         6 2010-12-01 08:26:00   \n",
            "1  536365                  WHITE METAL LANTERN         6 2010-12-01 08:26:00   \n",
            "2  536365       CREAM CUPID HEARTS COAT HANGER         8 2010-12-01 08:26:00   \n",
            "3  536365  KNITTED UNION FLAG HOT WATER BOTTLE         6 2010-12-01 08:26:00   \n",
            "4  536365       RED WOOLLY HOTTIE WHITE HEART.         6 2010-12-01 08:26:00   \n",
            "\n",
            "   Price  CustomerID         Country  \n",
            "0   2.55     17850.0  United Kingdom  \n",
            "1   3.39     17850.0  United Kingdom  \n",
            "2   2.75     17850.0  United Kingdom  \n",
            "3   3.39     17850.0  United Kingdom  \n",
            "4   3.39     17850.0  United Kingdom  \n"
          ]
        }
      ]
    },
    {
      "cell_type": "code",
      "source": [
        "df.info()\n"
      ],
      "metadata": {
        "colab": {
          "base_uri": "https://localhost:8080/"
        },
        "id": "_d6Dx_KSROxz",
        "outputId": "64aeb4d6-9730-46ca-94e9-239ea1f695cd"
      },
      "execution_count": null,
      "outputs": [
        {
          "output_type": "stream",
          "name": "stdout",
          "text": [
            "<class 'pandas.core.frame.DataFrame'>\n",
            "RangeIndex: 522064 entries, 0 to 522063\n",
            "Data columns (total 7 columns):\n",
            " #   Column      Non-Null Count   Dtype         \n",
            "---  ------      --------------   -----         \n",
            " 0   BillNo      522064 non-null  object        \n",
            " 1   Itemname    520609 non-null  object        \n",
            " 2   Quantity    522064 non-null  int64         \n",
            " 3   Date        522064 non-null  datetime64[ns]\n",
            " 4   Price       522064 non-null  float64       \n",
            " 5   CustomerID  388023 non-null  float64       \n",
            " 6   Country     522064 non-null  object        \n",
            "dtypes: datetime64[ns](1), float64(2), int64(1), object(3)\n",
            "memory usage: 27.9+ MB\n"
          ]
        },
        {
          "output_type": "stream",
          "name": "stderr",
          "text": [
            "/usr/local/lib/python3.10/dist-packages/ipykernel/ipkernel.py:283: DeprecationWarning: `should_run_async` will not call `transform_cell` automatically in the future. Please pass the result to `transformed_cell` argument and any exception that happen during thetransform in `preprocessing_exc_tuple` in IPython 7.17 and above.\n",
            "  and should_run_async(code)\n"
          ]
        }
      ]
    },
    {
      "cell_type": "markdown",
      "source": [
        "Diketahui bahwa dataset terdiri dari 7 kolom dengan total 522.064 entri."
      ],
      "metadata": {
        "id": "sWIlvipRnIF_"
      }
    },
    {
      "cell_type": "code",
      "source": [
        "# Periksa nilai yang hilang\n",
        "print(df.isnull().sum())"
      ],
      "metadata": {
        "colab": {
          "base_uri": "https://localhost:8080/"
        },
        "id": "sMjvxeCxXScp",
        "outputId": "8221dce2-ca13-418c-a584-cca9ddfcf57f"
      },
      "execution_count": null,
      "outputs": [
        {
          "output_type": "stream",
          "name": "stderr",
          "text": [
            "/usr/local/lib/python3.10/dist-packages/ipykernel/ipkernel.py:283: DeprecationWarning: `should_run_async` will not call `transform_cell` automatically in the future. Please pass the result to `transformed_cell` argument and any exception that happen during thetransform in `preprocessing_exc_tuple` in IPython 7.17 and above.\n",
            "  and should_run_async(code)\n"
          ]
        },
        {
          "output_type": "stream",
          "name": "stdout",
          "text": [
            "BillNo             0\n",
            "Itemname        1455\n",
            "Quantity           0\n",
            "Date               0\n",
            "Price              0\n",
            "CustomerID    134041\n",
            "Country            0\n",
            "dtype: int64\n"
          ]
        }
      ]
    },
    {
      "cell_type": "markdown",
      "source": [
        "Diketahui terdapat 1455 nilai null pada kolom Itemname dan 134.041 nilai null pada kolom CostumerID"
      ],
      "metadata": {
        "id": "JgXKNhX-nvCb"
      }
    },
    {
      "cell_type": "code",
      "source": [
        "# Menghapus baris yang memiliki nilai null pada kolom \"Itemname\"\n",
        "df1 = df.dropna(subset=['Itemname'])\n"
      ],
      "metadata": {
        "colab": {
          "base_uri": "https://localhost:8080/"
        },
        "id": "_yCmbMf1aO7N",
        "outputId": "b3a7d99a-755f-475e-e2e2-92796e1c47d6"
      },
      "execution_count": null,
      "outputs": [
        {
          "output_type": "stream",
          "name": "stderr",
          "text": [
            "/usr/local/lib/python3.10/dist-packages/ipykernel/ipkernel.py:283: DeprecationWarning: `should_run_async` will not call `transform_cell` automatically in the future. Please pass the result to `transformed_cell` argument and any exception that happen during thetransform in `preprocessing_exc_tuple` in IPython 7.17 and above.\n",
            "  and should_run_async(code)\n"
          ]
        }
      ]
    },
    {
      "cell_type": "code",
      "source": [
        "# Mendapatkan nilai modus dari kolom \"CustomerID\"\n",
        "mode_customer_id = df1['CustomerID'].mode()[0]\n",
        "\n",
        "# Mengisi nilai null pada kolom \"CustomerID\" dengan nilai modus\n",
        "df1['CustomerID'] = df1['CustomerID'].fillna(mode_customer_id)\n",
        "\n",
        "# Menampilkan informasi setelah mengisi nilai null\n",
        "print(df1.info())\n",
        "\n"
      ],
      "metadata": {
        "colab": {
          "base_uri": "https://localhost:8080/"
        },
        "id": "gjX171l0aWYX",
        "outputId": "300ba528-dfed-4e67-dc43-de3e408f4894"
      },
      "execution_count": null,
      "outputs": [
        {
          "output_type": "stream",
          "name": "stderr",
          "text": [
            "/usr/local/lib/python3.10/dist-packages/ipykernel/ipkernel.py:283: DeprecationWarning: `should_run_async` will not call `transform_cell` automatically in the future. Please pass the result to `transformed_cell` argument and any exception that happen during thetransform in `preprocessing_exc_tuple` in IPython 7.17 and above.\n",
            "  and should_run_async(code)\n",
            "<ipython-input-6-2ab747cdfdbf>:5: SettingWithCopyWarning: \n",
            "A value is trying to be set on a copy of a slice from a DataFrame.\n",
            "Try using .loc[row_indexer,col_indexer] = value instead\n",
            "\n",
            "See the caveats in the documentation: https://pandas.pydata.org/pandas-docs/stable/user_guide/indexing.html#returning-a-view-versus-a-copy\n",
            "  df1['CustomerID'] = df1['CustomerID'].fillna(mode_customer_id)\n"
          ]
        },
        {
          "output_type": "stream",
          "name": "stdout",
          "text": [
            "<class 'pandas.core.frame.DataFrame'>\n",
            "Index: 520609 entries, 0 to 522063\n",
            "Data columns (total 7 columns):\n",
            " #   Column      Non-Null Count   Dtype         \n",
            "---  ------      --------------   -----         \n",
            " 0   BillNo      520609 non-null  object        \n",
            " 1   Itemname    520609 non-null  object        \n",
            " 2   Quantity    520609 non-null  int64         \n",
            " 3   Date        520609 non-null  datetime64[ns]\n",
            " 4   Price       520609 non-null  float64       \n",
            " 5   CustomerID  520609 non-null  float64       \n",
            " 6   Country     520609 non-null  object        \n",
            "dtypes: datetime64[ns](1), float64(2), int64(1), object(3)\n",
            "memory usage: 31.8+ MB\n",
            "None\n"
          ]
        }
      ]
    },
    {
      "cell_type": "code",
      "source": [
        "# Periksa nilai yang hilang\n",
        "print(df1.isnull().sum())"
      ],
      "metadata": {
        "colab": {
          "base_uri": "https://localhost:8080/"
        },
        "id": "g3x9_NWJgLIF",
        "outputId": "f6ed9f96-1a6f-4e25-ed30-be5b6b21eb56"
      },
      "execution_count": null,
      "outputs": [
        {
          "output_type": "stream",
          "name": "stdout",
          "text": [
            "BillNo        0\n",
            "Itemname      0\n",
            "Quantity      0\n",
            "Date          0\n",
            "Price         0\n",
            "CustomerID    0\n",
            "Country       0\n",
            "dtype: int64\n"
          ]
        },
        {
          "output_type": "stream",
          "name": "stderr",
          "text": [
            "/usr/local/lib/python3.10/dist-packages/ipykernel/ipkernel.py:283: DeprecationWarning: `should_run_async` will not call `transform_cell` automatically in the future. Please pass the result to `transformed_cell` argument and any exception that happen during thetransform in `preprocessing_exc_tuple` in IPython 7.17 and above.\n",
            "  and should_run_async(code)\n"
          ]
        }
      ]
    },
    {
      "cell_type": "code",
      "source": [
        "# Memeriksa tipe data dari setiap kolom\n",
        "df1.dtypes"
      ],
      "metadata": {
        "colab": {
          "base_uri": "https://localhost:8080/"
        },
        "id": "GGumaO-VgyXj",
        "outputId": "98648a7b-5b8a-41f7-ed6c-d060387e1fa2"
      },
      "execution_count": null,
      "outputs": [
        {
          "output_type": "stream",
          "name": "stderr",
          "text": [
            "/usr/local/lib/python3.10/dist-packages/ipykernel/ipkernel.py:283: DeprecationWarning: `should_run_async` will not call `transform_cell` automatically in the future. Please pass the result to `transformed_cell` argument and any exception that happen during thetransform in `preprocessing_exc_tuple` in IPython 7.17 and above.\n",
            "  and should_run_async(code)\n"
          ]
        },
        {
          "output_type": "execute_result",
          "data": {
            "text/plain": [
              "BillNo                object\n",
              "Itemname              object\n",
              "Quantity               int64\n",
              "Date          datetime64[ns]\n",
              "Price                float64\n",
              "CustomerID           float64\n",
              "Country               object\n",
              "dtype: object"
            ]
          },
          "metadata": {},
          "execution_count": 8
        }
      ]
    },
    {
      "cell_type": "markdown",
      "source": [
        "# Model Baseline"
      ],
      "metadata": {
        "id": "_Q8nwPwrQZyo"
      }
    },
    {
      "cell_type": "code",
      "source": [
        "# Mengelompokkan data berdasarkan nomor transaksi (BillNo) dan\n",
        "# menggabungkan item-item yang terkait dengan setiap transaksi\n",
        "transactions = df1.groupby('BillNo')['Itemname'].apply(list)\n",
        "\n",
        "# Menampilkan lima transaksi pertama\n",
        "print(transactions.head())"
      ],
      "metadata": {
        "colab": {
          "base_uri": "https://localhost:8080/"
        },
        "id": "5oObU6m-hivP",
        "outputId": "c61f9ec8-8138-41e1-fb70-8cf91c54fbd8"
      },
      "execution_count": null,
      "outputs": [
        {
          "output_type": "stream",
          "name": "stderr",
          "text": [
            "/usr/local/lib/python3.10/dist-packages/ipykernel/ipkernel.py:283: DeprecationWarning: `should_run_async` will not call `transform_cell` automatically in the future. Please pass the result to `transformed_cell` argument and any exception that happen during thetransform in `preprocessing_exc_tuple` in IPython 7.17 and above.\n",
            "  and should_run_async(code)\n"
          ]
        },
        {
          "output_type": "stream",
          "name": "stdout",
          "text": [
            "BillNo\n",
            "536365    [WHITE HANGING HEART T-LIGHT HOLDER, WHITE MET...\n",
            "536366    [HAND WARMER UNION JACK, HAND WARMER RED POLKA...\n",
            "536367    [ASSORTED COLOUR BIRD ORNAMENT, POPPY'S PLAYHO...\n",
            "536368    [JAM MAKING SET WITH JARS, RED COAT RACK PARIS...\n",
            "536369                           [BATH BUILDING BLOCK WORD]\n",
            "Name: Itemname, dtype: object\n"
          ]
        }
      ]
    },
    {
      "cell_type": "code",
      "source": [
        "from mlxtend.frequent_patterns import fpgrowth\n",
        "from mlxtend.frequent_patterns import association_rules\n",
        "\n",
        "# Membuat one-hot encoding\n",
        "one_hot = transactions.str.join('|').str.get_dummies()\n",
        "\n",
        "# Menerapkan algoritma FP-Growth untuk mendapatkan itemset frekuensi tinggi\n",
        "frequent_itemsets = fpgrowth(one_hot, min_support=0.02, use_colnames=True)\n",
        "\n",
        "# Membangun aturan asosiasi\n",
        "rules = association_rules(frequent_itemsets, metric=\"lift\", min_threshold=1)\n",
        "\n",
        "# Menampilkan aturan asosiasi yang dihasilkan\n",
        "print(\"Aturan Asosiasi:\")\n",
        "print(rules)"
      ],
      "metadata": {
        "colab": {
          "base_uri": "https://localhost:8080/"
        },
        "id": "oreG4PjOYP_O",
        "outputId": "c67e52db-abe1-400a-fac4-14d684ee1677"
      },
      "execution_count": null,
      "outputs": [
        {
          "output_type": "stream",
          "name": "stderr",
          "text": [
            "/usr/local/lib/python3.10/dist-packages/ipykernel/ipkernel.py:283: DeprecationWarning: `should_run_async` will not call `transform_cell` automatically in the future. Please pass the result to `transformed_cell` argument and any exception that happen during thetransform in `preprocessing_exc_tuple` in IPython 7.17 and above.\n",
            "  and should_run_async(code)\n",
            "/usr/local/lib/python3.10/dist-packages/mlxtend/frequent_patterns/fpcommon.py:110: DeprecationWarning: DataFrames with non-bool types result in worse computationalperformance and their support might be discontinued in the future.Please use a DataFrame with bool type\n",
            "  warnings.warn(\n"
          ]
        },
        {
          "output_type": "stream",
          "name": "stdout",
          "text": [
            "Aturan Asosiasi:\n",
            "                             antecedents                          consequents  \\\n",
            "0             (JAM MAKING SET WITH JARS)             (JAM MAKING SET PRINTED)   \n",
            "1               (JAM MAKING SET PRINTED)           (JAM MAKING SET WITH JARS)   \n",
            "2           (ALARM CLOCK BAKELIKE GREEN)           (ALARM CLOCK BAKELIKE RED)   \n",
            "3             (ALARM CLOCK BAKELIKE RED)         (ALARM CLOCK BAKELIKE GREEN)   \n",
            "4            (ALARM CLOCK BAKELIKE PINK)           (ALARM CLOCK BAKELIKE RED)   \n",
            "..                                   ...                                  ...   \n",
            "159                     (SPOTTY BUNTING)                      (PARTY BUNTING)   \n",
            "160            (JUMBO BAG RED RETROSPOT)             (JUMBO BAG VINTAGE LEAF)   \n",
            "161             (JUMBO BAG VINTAGE LEAF)            (JUMBO BAG RED RETROSPOT)   \n",
            "162  (GARDENERS KNEELING PAD CUP OF TEA)   (GARDENERS KNEELING PAD KEEP CALM)   \n",
            "163   (GARDENERS KNEELING PAD KEEP CALM)  (GARDENERS KNEELING PAD CUP OF TEA)   \n",
            "\n",
            "     antecedent support  consequent support   support  confidence       lift  \\\n",
            "0              0.053890            0.055226  0.022367    0.415060   7.515704   \n",
            "1              0.055226            0.053890  0.022367    0.405018   7.515704   \n",
            "2              0.047852            0.050821  0.031324    0.654602  12.880423   \n",
            "3              0.050821            0.047852  0.031324    0.616358  12.880423   \n",
            "4              0.037559            0.050821  0.022466    0.598155  11.769743   \n",
            "..                  ...                 ...       ...         ...        ...   \n",
            "159            0.055127            0.081948  0.023407    0.424596   5.181303   \n",
            "160            0.102138            0.042458  0.020784    0.203488   4.792649   \n",
            "161            0.042458            0.102138  0.020784    0.489510   4.792649   \n",
            "162            0.037312            0.044784  0.026920    0.721485  16.110251   \n",
            "163            0.044784            0.037312  0.026920    0.601105  16.110251   \n",
            "\n",
            "     leverage  conviction  zhangs_metric  \n",
            "0    0.019391    1.615164       0.916326  \n",
            "1    0.019391    1.590149       0.917622  \n",
            "2    0.028892    2.748071       0.968718  \n",
            "3    0.028892    2.481867       0.971748  \n",
            "4    0.020558    2.362054       0.950746  \n",
            "..        ...         ...            ...  \n",
            "159  0.018889    1.595492       0.854081  \n",
            "160  0.016447    1.202169       0.881368  \n",
            "161  0.016447    1.758826       0.826436  \n",
            "162  0.025249    3.429679       0.974280  \n",
            "163  0.025249    2.413387       0.981901  \n",
            "\n",
            "[164 rows x 10 columns]\n"
          ]
        }
      ]
    },
    {
      "cell_type": "markdown",
      "source": [
        "keterangan Aturan Asosiasi:\n",
        "\n",
        "*   antecedents: Item atau kelompok item pada sisi kiri aturan.\n",
        "*   consequents: Item atau kelompok item pada sisi kanan aturan.\n",
        "*   antecedent support: Persentase transaksi yang mengandung item atau kelompok item pada sisi kiri aturan.\n",
        "*   consequent support: Persentase transaksi yang mengandung item atau kelompok item pada sisi kanan aturan.\n",
        "*   support: Persentase transaksi yang mengandung kedua item atau kelompok item pada aturan tersebut.\n",
        "*   confidence: Tingkat keyakinan bahwa sisi kanan aturan akan muncul dalam transaksi yang mengandung sisi kiri aturan.\n",
        "*   lift: Pengukuran seberapa besar keterkaitan antara sisi kiri dan sisi kanan aturan. Nilai lift di atas 1 menunjukkan bahwa kedua item tersebut lebih sering muncul bersama daripada yang diharapkan secara acak.\n",
        "*   leverage: Pengukuran seberapa banyak aturan tersebut \"mendorong\" penjualan relatif terhadap apa yang diharapkan secara acak.\n",
        "*   conviction: Pengukuran seberapa kuat hubungan antara sisi kiri dan sisi kanan aturan. Nilai yang lebih tinggi menunjukkan hubungan yang lebih kuat.\n",
        "*   zhangs_metric: Metrik tambahan untuk mengukur keterkaitan antara item atau kelompok item."
      ],
      "metadata": {
        "id": "Er8awzl6qPDv"
      }
    },
    {
      "cell_type": "markdown",
      "source": [
        "# Analisis Hasil"
      ],
      "metadata": {
        "id": "nhT9EckCQeyo"
      }
    },
    {
      "cell_type": "code",
      "source": [
        "# Analisis Hasil\n",
        "# Menampilkan beberapa statistik penting tentang aturan asosiasi yang dihasilkan\n",
        "print(\"\\nStatistik Aturan Asosiasi:\")\n",
        "print(rules.describe())"
      ],
      "metadata": {
        "colab": {
          "base_uri": "https://localhost:8080/"
        },
        "id": "zMFTNEA0bpxJ",
        "outputId": "4ed2c25c-cc28-4c03-9b5e-56b29578e56f"
      },
      "execution_count": null,
      "outputs": [
        {
          "output_type": "stream",
          "name": "stdout",
          "text": [
            "\n",
            "Statistik Aturan Asosiasi:\n",
            "       antecedent support  consequent support     support  confidence  \\\n",
            "count          164.000000          164.000000  164.000000  164.000000   \n",
            "mean             0.058911            0.058911    0.024407    0.458246   \n",
            "std              0.021194            0.021194    0.003985    0.147752   \n",
            "min              0.025435            0.025435    0.020042    0.183924   \n",
            "25%              0.044537            0.044537    0.021031    0.360031   \n",
            "50%              0.053345            0.053345    0.023827    0.442043   \n",
            "75%              0.062352            0.062352    0.026178    0.552703   \n",
            "max              0.108967            0.108967    0.040529    0.903509   \n",
            "\n",
            "             lift    leverage  conviction  zhangs_metric  \n",
            "count  164.000000  164.000000  164.000000     164.000000  \n",
            "mean     8.473827    0.021023    1.945430       0.913085  \n",
            "std      3.634521    0.003970    0.958085       0.062231  \n",
            "min      1.965254    0.010743    1.123348       0.547032  \n",
            "25%      6.184674    0.018541    1.483525       0.902121  \n",
            "50%      7.435978    0.020516    1.686171       0.920902  \n",
            "75%      9.535449    0.023037    2.067880       0.947866  \n",
            "max     19.343514    0.034408    9.863609       0.994586  \n"
          ]
        },
        {
          "output_type": "stream",
          "name": "stderr",
          "text": [
            "/usr/local/lib/python3.10/dist-packages/ipykernel/ipkernel.py:283: DeprecationWarning: `should_run_async` will not call `transform_cell` automatically in the future. Please pass the result to `transformed_cell` argument and any exception that happen during thetransform in `preprocessing_exc_tuple` in IPython 7.17 and above.\n",
            "  and should_run_async(code)\n"
          ]
        }
      ]
    },
    {
      "cell_type": "markdown",
      "source": [
        "Berikut adalah kesimpulan yang dapat diambil dari output tersebut:\n",
        "\n",
        "1. Antecedent Support dan Consequent Support:\n",
        "Rata-rata dari support (persentase transaksi yang mengandung item atau kelompok item pada sisi kiri atau kanan aturan) adalah sekitar 5.89%.\n",
        "Standar deviasi support adalah sekitar 2.12%, menunjukkan variasi yang cukup signifikan dari nilai-nilai support.\n",
        "2. Support:\n",
        "Rata-rata dari support aturan-aturan adalah sekitar 2.44% dari seluruh transaksi.\n",
        "Standar deviasi dari support adalah sekitar 0.40%, menunjukkan variasi yang cukup besar dalam dukungan aturan-aturan.\n",
        "3. Confidence:\n",
        "Rata-rata confidence (tingkat keyakinan bahwa sisi kanan aturan akan muncul dalam transaksi yang mengandung sisi kiri aturan) adalah sekitar 45.82%.\n",
        "Standar deviasi dari confidence adalah sekitar 14.78%, menunjukkan variasi yang signifikan dalam tingkat keyakinan.\n",
        "4. Lift:\n",
        "Rata-rata dari lift (pengukuran seberapa besar keterkaitan antara sisi kiri dan sisi kanan aturan) adalah sekitar 8.47.\n",
        "Standar deviasi dari lift adalah sekitar 3.63, menunjukkan variasi yang cukup besar dalam tingkat keterkaitan.\n",
        "5. Leverage:\n",
        "Rata-rata leverage (pengukuran seberapa banyak aturan tersebut \"mendorong\" penjualan relatif terhadap apa yang diharapkan secara acak) adalah sekitar 0.021.\n",
        "Standar deviasi dari leverage adalah sekitar 0.004, menunjukkan variasi yang cukup kecil dalam leverage.\n",
        "6. Conviction:\n",
        "Rata-rata conviction (pengukuran seberapa kuat hubungan antara sisi kiri dan sisi kanan aturan) adalah sekitar 1.95.\n",
        "Standar deviasi dari conviction adalah sekitar 0.96, menunjukkan variasi yang cukup besar dalam tingkat kekuatan hubungan.\n",
        "7. Zhang's Metric:\n",
        "Nilai rata-rata dari Zhang's Metric adalah sekitar 0.91, menunjukkan tingkat keterkaitan yang cukup kuat antara item atau kelompok item dalam aturan-aturan asosiasi."
      ],
      "metadata": {
        "id": "NXfXBRzvsfYa"
      }
    },
    {
      "cell_type": "code",
      "source": [
        "# Menampilkan aturan asosiasi dengan lift tertinggi\n",
        "print(\"\\nAturan Asosiasi dengan Lift Tertinggi:\")\n",
        "print(rules[rules['lift'] == rules['lift'].max()])"
      ],
      "metadata": {
        "colab": {
          "base_uri": "https://localhost:8080/"
        },
        "id": "gJvR3THIbv-5",
        "outputId": "1d511479-0445-47a8-c66a-99a3331156e7"
      },
      "execution_count": null,
      "outputs": [
        {
          "output_type": "stream",
          "name": "stdout",
          "text": [
            "\n",
            "Aturan Asosiasi dengan Lift Tertinggi:\n",
            "                                           antecedents  \\\n",
            "134  (GREEN REGENCY TEACUP AND SAUCER, ROSES REGENC...   \n",
            "135                   (PINK REGENCY TEACUP AND SAUCER)   \n",
            "\n",
            "                                           consequents  antecedent support  \\\n",
            "134                   (PINK REGENCY TEACUP AND SAUCER)            0.036174   \n",
            "135  (GREEN REGENCY TEACUP AND SAUCER, ROSES REGENC...            0.036421   \n",
            "\n",
            "     consequent support   support  confidence       lift  leverage  \\\n",
            "134            0.036421  0.025485    0.704514  19.343514  0.024167   \n",
            "135            0.036174  0.025485    0.699728  19.343514  0.024167   \n",
            "\n",
            "     conviction  zhangs_metric  \n",
            "134    3.261000       0.983894  \n",
            "135    3.209847       0.984147  \n"
          ]
        },
        {
          "output_type": "stream",
          "name": "stderr",
          "text": [
            "/usr/local/lib/python3.10/dist-packages/ipykernel/ipkernel.py:283: DeprecationWarning: `should_run_async` will not call `transform_cell` automatically in the future. Please pass the result to `transformed_cell` argument and any exception that happen during thetransform in `preprocessing_exc_tuple` in IPython 7.17 and above.\n",
            "  and should_run_async(code)\n"
          ]
        }
      ]
    },
    {
      "cell_type": "markdown",
      "source": [
        "Aturan tersebut menunjukkan bahwa pelanggan yang membeli \"GREEN REGENCY TEACUP AND SAUCER\" dan \"ROSES REGENCY TEACUP AND SAUCER\" memiliki kemungkinan sebesar 70.45% untuk juga membeli \"PINK REGENCY TEACUP AND SAUCER\". Lift yang tinggi (19.34) menunjukkan bahwa pembelian \"PINK REGENCY TEACUP AND SAUCER\" lebih mungkin terjadi bersamaan dengan pembelian \"GREEN REGENCY TEACUP AND SAUCER\" dan \"ROSES REGENCY TEACUP AND SAUCER\" daripada yang diharapkan secara acak. Leverage yang positif menunjukkan adanya peningkatan dalam pembelian bersamaan, sementara conviction yang tinggi menunjukkan kepercayaan yang kuat dalam kebenaran aturan tersebut. Dengan demikian, aturan tersebut dapat menjadi sasaran strategi pemasaran yang efektif untuk meningkatkan penjualan produk \"PINK REGENCY TEACUP AND SAUCER\" dengan mengaitkannya dengan produk \"GREEN REGENCY TEACUP AND SAUCER\" dan \"ROSES REGENCY TEACUP AND SAUCER\"."
      ],
      "metadata": {
        "id": "t7V2ynlJtsFG"
      }
    },
    {
      "cell_type": "markdown",
      "source": [
        "# Evaluasi"
      ],
      "metadata": {
        "id": "CO18lvh8QzGe"
      }
    },
    {
      "cell_type": "code",
      "source": [
        "# Evaluasi dengan mengubah nilai min_support dari 0.02 menjadi 0.01\n",
        "frequent_itemsets = fpgrowth(one_hot, min_support=0.01, use_colnames=True)\n",
        "\n",
        "# Membangun aturan asosiasi\n",
        "rules2 = association_rules(frequent_itemsets, metric=\"lift\", min_threshold=1)\n",
        "\n",
        "# Menampilkan aturan asosiasi yang dihasilkan\n",
        "print(rules2)"
      ],
      "metadata": {
        "colab": {
          "base_uri": "https://localhost:8080/"
        },
        "id": "Plp4En54h0UJ",
        "outputId": "bb95d8f5-ea9d-402e-f8b6-6daf1522d178"
      },
      "execution_count": null,
      "outputs": [
        {
          "output_type": "stream",
          "name": "stderr",
          "text": [
            "/usr/local/lib/python3.10/dist-packages/ipykernel/ipkernel.py:283: DeprecationWarning: `should_run_async` will not call `transform_cell` automatically in the future. Please pass the result to `transformed_cell` argument and any exception that happen during thetransform in `preprocessing_exc_tuple` in IPython 7.17 and above.\n",
            "  and should_run_async(code)\n",
            "/usr/local/lib/python3.10/dist-packages/mlxtend/frequent_patterns/fpcommon.py:110: DeprecationWarning: DataFrames with non-bool types result in worse computationalperformance and their support might be discontinued in the future.Please use a DataFrame with bool type\n",
            "  warnings.warn(\n"
          ]
        },
        {
          "output_type": "stream",
          "name": "stdout",
          "text": [
            "                               antecedents                      consequents  \\\n",
            "0                 (HAND WARMER UNION JACK)         (HAND WARMER OWL DESIGN)   \n",
            "1                 (HAND WARMER OWL DESIGN)         (HAND WARMER UNION JACK)   \n",
            "2                 (HAND WARMER UNION JACK)  (HAND WARMER SCOTTY DOG DESIGN)   \n",
            "3          (HAND WARMER SCOTTY DOG DESIGN)         (HAND WARMER UNION JACK)   \n",
            "4     (WHITE HANGING HEART T-LIGHT HOLDER)  (ASSORTED COLOUR BIRD ORNAMENT)   \n",
            "...                                    ...                              ...   \n",
            "2999          (HOT WATER BOTTLE KEEP CALM)          (LOVE HOT WATER BOTTLE)   \n",
            "3000          (CHOCOLATE HOT WATER BOTTLE)     (HOT WATER BOTTLE KEEP CALM)   \n",
            "3001          (HOT WATER BOTTLE KEEP CALM)     (CHOCOLATE HOT WATER BOTTLE)   \n",
            "3002              (HAND WARMER OWL DESIGN)     (HAND WARMER RED LOVE HEART)   \n",
            "3003          (HAND WARMER RED LOVE HEART)         (HAND WARMER OWL DESIGN)   \n",
            "\n",
            "      antecedent support  consequent support   support  confidence       lift  \\\n",
            "0               0.023703            0.032116  0.011679    0.492693  15.341051   \n",
            "1               0.032116            0.023703  0.011679    0.363636  15.341051   \n",
            "2               0.023703            0.026920  0.010639    0.448852  16.673523   \n",
            "3               0.026920            0.023703  0.010639    0.395221  16.673523   \n",
            "4               0.108967            0.070814  0.015439    0.141689   2.000880   \n",
            "...                  ...                 ...       ...         ...        ...   \n",
            "2999            0.038153            0.023011  0.011481    0.300908  13.076875   \n",
            "3000            0.041370            0.038153  0.013163    0.318182   8.339583   \n",
            "3001            0.038153            0.041370  0.013163    0.345006   8.339583   \n",
            "3002            0.032116            0.019497  0.010689    0.332820  17.070104   \n",
            "3003            0.019497            0.032116  0.010689    0.548223  17.070104   \n",
            "\n",
            "      leverage  conviction  zhangs_metric  \n",
            "0     0.010917    1.907887       0.957512  \n",
            "1     0.010917    1.534180       0.965834  \n",
            "2     0.010001    1.765550       0.962848  \n",
            "3     0.010001    1.614302       0.966030  \n",
            "4     0.007723    1.082576       0.561393  \n",
            "...        ...         ...            ...  \n",
            "2999  0.010603    1.397512       0.960162  \n",
            "3000  0.011585    1.410709       0.918070  \n",
            "3001  0.011585    1.463572       0.915000  \n",
            "3002  0.010063    1.469622       0.972656  \n",
            "3003  0.010063    2.142395       0.960138  \n",
            "\n",
            "[3004 rows x 10 columns]\n"
          ]
        }
      ]
    },
    {
      "cell_type": "markdown",
      "source": [
        "Setelah mengubah nilai min_support dari 0.02 menjadi 0.01, jumlah aturan asosiasi yang dihasilkan meningkat dari 164 menjadi 3004. Hal ini menunjukkan bahwa dengan menurunkan nilai min_support, kita lebih memperbolehkan itemset yang lebih jarang muncul untuk dimasukkan ke dalam analisis. Sebagai hasilnya, jumlah aturan asosiasi yang dihasilkan menjadi lebih banyak."
      ],
      "metadata": {
        "id": "jW4avWO4vM3n"
      }
    },
    {
      "cell_type": "code",
      "source": [
        "# Menampilkan aturan asosiasi dengan lift tertinggi\n",
        "print(\"\\nAturan Asosiasi dengan Lift Tertinggi:\")\n",
        "print(rules2[rules2['lift'] == rules2['lift'].max()])"
      ],
      "metadata": {
        "colab": {
          "base_uri": "https://localhost:8080/"
        },
        "id": "Hay701XXkwKK",
        "outputId": "eebf714e-6ffa-4680-db33-d694f9c38088"
      },
      "execution_count": null,
      "outputs": [
        {
          "output_type": "stream",
          "name": "stdout",
          "text": [
            "\n",
            "Aturan Asosiasi dengan Lift Tertinggi:\n",
            "                 antecedents             consequents  antecedent support  \\\n",
            "1446  (HERB MARKER ROSEMARY)     (HERB MARKER THYME)             0.01158   \n",
            "1447     (HERB MARKER THYME)  (HERB MARKER ROSEMARY)             0.01153   \n",
            "\n",
            "      consequent support   support  confidence       lift  leverage  \\\n",
            "1446             0.01153  0.010738     0.92735  80.428744  0.010605   \n",
            "1447             0.01158  0.010738     0.93133  80.428744  0.010605   \n",
            "\n",
            "      conviction  zhangs_metric  \n",
            "1446   13.605998       0.999136  \n",
            "1447   14.393872       0.999086  \n"
          ]
        },
        {
          "output_type": "stream",
          "name": "stderr",
          "text": [
            "/usr/local/lib/python3.10/dist-packages/ipykernel/ipkernel.py:283: DeprecationWarning: `should_run_async` will not call `transform_cell` automatically in the future. Please pass the result to `transformed_cell` argument and any exception that happen during thetransform in `preprocessing_exc_tuple` in IPython 7.17 and above.\n",
            "  and should_run_async(code)\n"
          ]
        }
      ]
    },
    {
      "cell_type": "markdown",
      "source": [
        "setelah mengubah nilai min_support dari 0.02 menjadi 0.01, kita mendapatkan aturan asosiasi dengan lift tertinggi antara HERB MARKER ROSEMARY dan HERB MARKER THYME. Aturan ini memiliki nilai lift yang sangat tinggi, mencapai 80.43, yang menunjukkan bahwa kemungkinan pembelian HERB MARKER ROSEMARY dan HERB MARKER THYME bersama-sama jauh lebih tinggi dari yang diharapkan secara acak.\n",
        "\n",
        "Kedua item tersebut memiliki dukungan yang relatif rendah (antecedent support dan consequent support di sekitar 0.01), tetapi memiliki tingkat confidence yang sangat tinggi, mencapai sekitar 0.93. Ini menunjukkan bahwa sebagian besar transaksi yang mencakup HERB MARKER ROSEMARY juga mencakup HERB MARKER THYME, dan sebaliknya.\n",
        "\n",
        "Kesimpulannya, dengan menurunkan nilai min_support, kita dapat menemukan asosiasi yang lebih spesifik dan mungkin lebih relevan dalam dataset, seperti hubungan antara dua jenis ini."
      ],
      "metadata": {
        "id": "wlzfW84Sv1Qs"
      }
    }
  ]
}